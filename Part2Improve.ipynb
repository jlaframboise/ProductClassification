{
 "cells": [
  {
   "cell_type": "code",
   "execution_count": 1,
   "id": "worthy-burst",
   "metadata": {},
   "outputs": [],
   "source": [
    "# Convolutional Neural Network for Fashion Product Classification"
   ]
  },
  {
   "cell_type": "code",
   "execution_count": 2,
   "id": "certified-pride",
   "metadata": {},
   "outputs": [],
   "source": [
    "### Imports"
   ]
  },
  {
   "cell_type": "code",
   "execution_count": 3,
   "id": "charged-helmet",
   "metadata": {},
   "outputs": [
    {
     "data": {
      "text/html": [
       "<style>.container { width:100% !important; }</style>"
      ],
      "text/plain": [
       "<IPython.core.display.HTML object>"
      ]
     },
     "metadata": {},
     "output_type": "display_data"
    }
   ],
   "source": [
    "import os, sys\n",
    "import pandas as pd\n",
    "import numpy as np\n",
    "import matplotlib.pyplot as plt\n",
    "import plotly_express as px\n",
    "import plotly.graph_objects as go\n",
    "from plotly.subplots import make_subplots\n",
    "import seaborn as sns\n",
    "from PIL import Image\n",
    "\n",
    "import tensorflow as tf\n",
    "from tensorflow.keras import Input, Model\n",
    "from tensorflow.keras.layers import *\n",
    "from tensorflow.keras.losses import CategoricalCrossentropy\n",
    "from tensorflow.keras.utils import to_categorical\n",
    "\n",
    "from sklearn.metrics import confusion_matrix\n",
    "\n",
    "from IPython.core.display import display, HTML\n",
    "display(HTML(\"<style>.container { width:100% !important; }</style>\"))\n",
    "\n",
    "pd.set_option('display.max_rows', 500)\n",
    "pd.set_option('display.max_columns', 500)\n",
    "pd.set_option('display.width', 1000)"
   ]
  },
  {
   "cell_type": "code",
   "execution_count": 4,
   "id": "hidden-darkness",
   "metadata": {},
   "outputs": [],
   "source": [
    "### Load train and test labels"
   ]
  },
  {
   "cell_type": "code",
   "execution_count": 5,
   "id": "formal-argument",
   "metadata": {},
   "outputs": [
    {
     "data": {
      "text/html": [
       "<div>\n",
       "<style scoped>\n",
       "    .dataframe tbody tr th:only-of-type {\n",
       "        vertical-align: middle;\n",
       "    }\n",
       "\n",
       "    .dataframe tbody tr th {\n",
       "        vertical-align: top;\n",
       "    }\n",
       "\n",
       "    .dataframe thead th {\n",
       "        text-align: right;\n",
       "    }\n",
       "</style>\n",
       "<table border=\"1\" class=\"dataframe\">\n",
       "  <thead>\n",
       "    <tr style=\"text-align: right;\">\n",
       "      <th></th>\n",
       "      <th>imageid</th>\n",
       "      <th>label</th>\n",
       "      <th>productname</th>\n",
       "    </tr>\n",
       "  </thead>\n",
       "  <tbody>\n",
       "    <tr>\n",
       "      <th>0</th>\n",
       "      <td>21131</td>\n",
       "      <td>Topwear</td>\n",
       "      <td>s.Oliver Women Solid White Top</td>\n",
       "    </tr>\n",
       "    <tr>\n",
       "      <th>1</th>\n",
       "      <td>27837</td>\n",
       "      <td>Others</td>\n",
       "      <td>Bulchee Men Plain Jeans Black Belt</td>\n",
       "    </tr>\n",
       "    <tr>\n",
       "      <th>2</th>\n",
       "      <td>47649</td>\n",
       "      <td>Shoes</td>\n",
       "      <td>Carlton London Men Brown Shoes</td>\n",
       "    </tr>\n",
       "    <tr>\n",
       "      <th>3</th>\n",
       "      <td>49717</td>\n",
       "      <td>Others</td>\n",
       "      <td>Park Avenue Black &amp; Red Checked Tie</td>\n",
       "    </tr>\n",
       "    <tr>\n",
       "      <th>4</th>\n",
       "      <td>4868</td>\n",
       "      <td>Topwear</td>\n",
       "      <td>Levis Kids Boy's Darby Orange Polo Tshirt</td>\n",
       "    </tr>\n",
       "    <tr>\n",
       "      <th>...</th>\n",
       "      <td>...</td>\n",
       "      <td>...</td>\n",
       "      <td>...</td>\n",
       "    </tr>\n",
       "    <tr>\n",
       "      <th>3995</th>\n",
       "      <td>7928</td>\n",
       "      <td>Topwear</td>\n",
       "      <td>Proline Men Olive Green Polo T-shirt</td>\n",
       "    </tr>\n",
       "    <tr>\n",
       "      <th>3996</th>\n",
       "      <td>21254</td>\n",
       "      <td>Bags</td>\n",
       "      <td>Skybags Unisex Maroon Duffle Bag</td>\n",
       "    </tr>\n",
       "    <tr>\n",
       "      <th>3997</th>\n",
       "      <td>58463</td>\n",
       "      <td>Others</td>\n",
       "      <td>Fossil Men Black Belt</td>\n",
       "    </tr>\n",
       "    <tr>\n",
       "      <th>3998</th>\n",
       "      <td>38025</td>\n",
       "      <td>Watches</td>\n",
       "      <td>Q&amp;Q Women Steel Dial Watch</td>\n",
       "    </tr>\n",
       "    <tr>\n",
       "      <th>3999</th>\n",
       "      <td>57145</td>\n",
       "      <td>Topwear</td>\n",
       "      <td>Elle Women Grey Melange Tank Top</td>\n",
       "    </tr>\n",
       "  </tbody>\n",
       "</table>\n",
       "<p>3999 rows × 3 columns</p>\n",
       "</div>"
      ],
      "text/plain": [
       "      imageid    label                                productname\n",
       "0       21131  Topwear             s.Oliver Women Solid White Top\n",
       "1       27837   Others         Bulchee Men Plain Jeans Black Belt\n",
       "2       47649    Shoes             Carlton London Men Brown Shoes\n",
       "3       49717   Others        Park Avenue Black & Red Checked Tie\n",
       "4        4868  Topwear  Levis Kids Boy's Darby Orange Polo Tshirt\n",
       "...       ...      ...                                        ...\n",
       "3995     7928  Topwear       Proline Men Olive Green Polo T-shirt\n",
       "3996    21254     Bags           Skybags Unisex Maroon Duffle Bag\n",
       "3997    58463   Others                      Fossil Men Black Belt\n",
       "3998    38025  Watches                 Q&Q Women Steel Dial Watch\n",
       "3999    57145  Topwear           Elle Women Grey Melange Tank Top\n",
       "\n",
       "[3999 rows x 3 columns]"
      ]
     },
     "execution_count": 5,
     "metadata": {},
     "output_type": "execute_result"
    }
   ],
   "source": [
    "test = pd.read_csv(\"test.csv\",\n",
    "           header=0, \n",
    "           sep=\"\t\").dropna()\n",
    "test"
   ]
  },
  {
   "cell_type": "code",
   "execution_count": 6,
   "id": "banned-vegetarian",
   "metadata": {},
   "outputs": [
    {
     "data": {
      "text/html": [
       "<div>\n",
       "<style scoped>\n",
       "    .dataframe tbody tr th:only-of-type {\n",
       "        vertical-align: middle;\n",
       "    }\n",
       "\n",
       "    .dataframe tbody tr th {\n",
       "        vertical-align: top;\n",
       "    }\n",
       "\n",
       "    .dataframe thead th {\n",
       "        text-align: right;\n",
       "    }\n",
       "</style>\n",
       "<table border=\"1\" class=\"dataframe\">\n",
       "  <thead>\n",
       "    <tr style=\"text-align: right;\">\n",
       "      <th></th>\n",
       "      <th>imageid</th>\n",
       "      <th>label</th>\n",
       "      <th>productname</th>\n",
       "    </tr>\n",
       "  </thead>\n",
       "  <tbody>\n",
       "    <tr>\n",
       "      <th>0</th>\n",
       "      <td>2653</td>\n",
       "      <td>Bags</td>\n",
       "      <td>Murcia Women Leather Office Grey Bag</td>\n",
       "    </tr>\n",
       "    <tr>\n",
       "      <th>1</th>\n",
       "      <td>55997</td>\n",
       "      <td>Others</td>\n",
       "      <td>Colorbar Velvet Matte Temptation Lipstick 24MA</td>\n",
       "    </tr>\n",
       "    <tr>\n",
       "      <th>2</th>\n",
       "      <td>2640</td>\n",
       "      <td>Shoes</td>\n",
       "      <td>Carlton London Men Brown Formal Shoes</td>\n",
       "    </tr>\n",
       "    <tr>\n",
       "      <th>3</th>\n",
       "      <td>40565</td>\n",
       "      <td>Topwear</td>\n",
       "      <td>W Women Maroon Kurta</td>\n",
       "    </tr>\n",
       "    <tr>\n",
       "      <th>4</th>\n",
       "      <td>38932</td>\n",
       "      <td>Bottomwear</td>\n",
       "      <td>Gini and Jony Girls Pink Leggings</td>\n",
       "    </tr>\n",
       "    <tr>\n",
       "      <th>...</th>\n",
       "      <td>...</td>\n",
       "      <td>...</td>\n",
       "      <td>...</td>\n",
       "    </tr>\n",
       "    <tr>\n",
       "      <th>40436</th>\n",
       "      <td>5815</td>\n",
       "      <td>Topwear</td>\n",
       "      <td>Puma Men's Sports Grey T-shirt</td>\n",
       "    </tr>\n",
       "    <tr>\n",
       "      <th>40437</th>\n",
       "      <td>55200</td>\n",
       "      <td>Others</td>\n",
       "      <td>Lakme Lip Love Charmer Lip Conditioner</td>\n",
       "    </tr>\n",
       "    <tr>\n",
       "      <th>40438</th>\n",
       "      <td>11294</td>\n",
       "      <td>Bottomwear</td>\n",
       "      <td>Wrangler Men Blue Floyd Jeans</td>\n",
       "    </tr>\n",
       "    <tr>\n",
       "      <th>40439</th>\n",
       "      <td>30620</td>\n",
       "      <td>Topwear</td>\n",
       "      <td>Nike Men Printed Green T-shirt</td>\n",
       "    </tr>\n",
       "    <tr>\n",
       "      <th>40440</th>\n",
       "      <td>24294</td>\n",
       "      <td>Others</td>\n",
       "      <td>Quiksilver Men High Navy Blue Socks</td>\n",
       "    </tr>\n",
       "  </tbody>\n",
       "</table>\n",
       "<p>40435 rows × 3 columns</p>\n",
       "</div>"
      ],
      "text/plain": [
       "       imageid       label                                     productname\n",
       "0         2653        Bags            Murcia Women Leather Office Grey Bag\n",
       "1        55997      Others  Colorbar Velvet Matte Temptation Lipstick 24MA\n",
       "2         2640       Shoes           Carlton London Men Brown Formal Shoes\n",
       "3        40565     Topwear                            W Women Maroon Kurta\n",
       "4        38932  Bottomwear               Gini and Jony Girls Pink Leggings\n",
       "...        ...         ...                                             ...\n",
       "40436     5815     Topwear                  Puma Men's Sports Grey T-shirt\n",
       "40437    55200      Others          Lakme Lip Love Charmer Lip Conditioner\n",
       "40438    11294  Bottomwear                   Wrangler Men Blue Floyd Jeans\n",
       "40439    30620     Topwear                  Nike Men Printed Green T-shirt\n",
       "40440    24294      Others             Quiksilver Men High Navy Blue Socks\n",
       "\n",
       "[40435 rows x 3 columns]"
      ]
     },
     "execution_count": 6,
     "metadata": {},
     "output_type": "execute_result"
    }
   ],
   "source": [
    "train = pd.read_csv(\"train.csv\",\n",
    "           header=0, \n",
    "           sep=\"\t\").dropna()\n",
    "train"
   ]
  },
  {
   "cell_type": "code",
   "execution_count": 7,
   "id": "unnecessary-healing",
   "metadata": {},
   "outputs": [],
   "source": [
    "### Prepare description features"
   ]
  },
  {
   "cell_type": "code",
   "execution_count": 33,
   "id": "prospective-think",
   "metadata": {},
   "outputs": [],
   "source": [
    "xw_train = train['productname']\n",
    "xw_test = test['productname']\n",
    "y_train = train['label']\n",
    "y_test = test['label']"
   ]
  },
  {
   "cell_type": "code",
   "execution_count": 34,
   "id": "departmental-defendant",
   "metadata": {},
   "outputs": [
    {
     "data": {
      "text/plain": [
       "0              Murcia Women Leather Office Grey Bag\n",
       "1    Colorbar Velvet Matte Temptation Lipstick 24MA\n",
       "2             Carlton London Men Brown Formal Shoes\n",
       "Name: productname, dtype: object"
      ]
     },
     "execution_count": 34,
     "metadata": {},
     "output_type": "execute_result"
    }
   ],
   "source": [
    "xw_train.head(3)"
   ]
  },
  {
   "cell_type": "code",
   "execution_count": 35,
   "id": "blond-hostel",
   "metadata": {},
   "outputs": [],
   "source": [
    "from sklearn.feature_extraction.text import CountVectorizer"
   ]
  },
  {
   "cell_type": "code",
   "execution_count": 36,
   "id": "acquired-dialogue",
   "metadata": {},
   "outputs": [
    {
     "data": {
      "text/plain": [
       "0"
      ]
     },
     "execution_count": 36,
     "metadata": {},
     "output_type": "execute_result"
    }
   ],
   "source": [
    "xw_train.isna().sum()"
   ]
  },
  {
   "cell_type": "code",
   "execution_count": 37,
   "id": "suffering-terror",
   "metadata": {},
   "outputs": [],
   "source": [
    "max_vocab = 500\n",
    "count_vect = CountVectorizer(max_features=max_vocab)\n",
    "xw_train = count_vect.fit_transform(xw_train)\n",
    "xw_test = count_vect.transform(xw_test)"
   ]
  },
  {
   "cell_type": "code",
   "execution_count": 38,
   "id": "united-verification",
   "metadata": {},
   "outputs": [],
   "source": [
    "# count_vect.get_feature_names()"
   ]
  },
  {
   "cell_type": "code",
   "execution_count": 39,
   "id": "explicit-appointment",
   "metadata": {},
   "outputs": [],
   "source": [
    "xw_train = xw_train.toarray()\n",
    "xw_test = xw_test.toarray()"
   ]
  },
  {
   "cell_type": "code",
   "execution_count": 40,
   "id": "touched-biography",
   "metadata": {},
   "outputs": [
    {
     "data": {
      "text/plain": [
       "['Bags',\n",
       " 'Others',\n",
       " 'Shoes',\n",
       " 'Topwear',\n",
       " 'Bottomwear',\n",
       " 'Innerwear',\n",
       " 'Eyewear',\n",
       " 'Jewellery',\n",
       " 'Sandal',\n",
       " 'Watches',\n",
       " 'Fragrance',\n",
       " 'Wallets',\n",
       " 'Makeup']"
      ]
     },
     "execution_count": 40,
     "metadata": {},
     "output_type": "execute_result"
    }
   ],
   "source": [
    "labels = y_train.unique().tolist()\n",
    "labels"
   ]
  },
  {
   "cell_type": "code",
   "execution_count": 41,
   "id": "trying-hebrew",
   "metadata": {},
   "outputs": [],
   "source": [
    "y_train = to_categorical(y_train.apply(lambda x: labels.index(x)).to_numpy())\n",
    "y_test = to_categorical(y_test.apply(lambda x: labels.index(x)).to_numpy())"
   ]
  },
  {
   "cell_type": "code",
   "execution_count": 42,
   "id": "decimal-france",
   "metadata": {},
   "outputs": [
    {
     "data": {
      "text/plain": [
       "(40435, 500)"
      ]
     },
     "execution_count": 42,
     "metadata": {},
     "output_type": "execute_result"
    }
   ],
   "source": [
    "xw_train.shape"
   ]
  },
  {
   "cell_type": "markdown",
   "id": "other-psychiatry",
   "metadata": {},
   "source": [
    "### Text NN Model Design"
   ]
  },
  {
   "cell_type": "code",
   "execution_count": 57,
   "id": "treated-hypothetical",
   "metadata": {},
   "outputs": [
    {
     "name": "stdout",
     "output_type": "stream",
     "text": [
      "Model: \"textmlp\"\n",
      "_________________________________________________________________\n",
      "Layer (type)                 Output Shape              Param #   \n",
      "=================================================================\n",
      "text_input (InputLayer)      [(None, 500)]             0         \n",
      "_________________________________________________________________\n",
      "dense_16 (Dense)             (None, 200)               100200    \n",
      "_________________________________________________________________\n",
      "dense_17 (Dense)             (None, 100)               20100     \n",
      "_________________________________________________________________\n",
      "dense_18 (Dense)             (None, 20)                2020      \n",
      "_________________________________________________________________\n",
      "dense_19 (Dense)             (None, 13)                273       \n",
      "=================================================================\n",
      "Total params: 122,593\n",
      "Trainable params: 122,593\n",
      "Non-trainable params: 0\n",
      "_________________________________________________________________\n"
     ]
    }
   ],
   "source": [
    "model_input = Input(shape=(max_vocab), name='text_input')\n",
    "\n",
    "x = Dense(200)(model_input)\n",
    "x = Dense(100)(x)\n",
    "x = Dense(20)(x)\n",
    "\n",
    "model_output = Dense(13, activation='softmax')(x)\n",
    "\n",
    "mlp = Model(model_input, model_output, name=\"textmlp\")\n",
    "mlp.summary()\n"
   ]
  },
  {
   "cell_type": "code",
   "execution_count": 58,
   "id": "amended-negotiation",
   "metadata": {},
   "outputs": [],
   "source": [
    "mlp.compile(optimizer='adam', \n",
    "           loss='CategoricalCrossentropy',\n",
    "           metrics=['accuracy'])"
   ]
  },
  {
   "cell_type": "code",
   "execution_count": 59,
   "id": "champion-ideal",
   "metadata": {},
   "outputs": [
    {
     "name": "stdout",
     "output_type": "stream",
     "text": [
      "Epoch 1/10\n",
      "1264/1264 [==============================] - 3s 2ms/step - loss: 0.4085 - accuracy: 0.8852 - val_loss: 0.0673 - val_accuracy: 0.9817\n",
      "Epoch 2/10\n",
      "1264/1264 [==============================] - 3s 2ms/step - loss: 0.0652 - accuracy: 0.9804 - val_loss: 0.0620 - val_accuracy: 0.9825\n",
      "Epoch 3/10\n",
      "1264/1264 [==============================] - 3s 2ms/step - loss: 0.0615 - accuracy: 0.9826 - val_loss: 0.0717 - val_accuracy: 0.9795\n",
      "Epoch 4/10\n",
      "1264/1264 [==============================] - 3s 2ms/step - loss: 0.0577 - accuracy: 0.9831 - val_loss: 0.0674 - val_accuracy: 0.9817\n",
      "Epoch 5/10\n",
      "1264/1264 [==============================] - 3s 2ms/step - loss: 0.0555 - accuracy: 0.9834 - val_loss: 0.0648 - val_accuracy: 0.9822\n",
      "Epoch 6/10\n",
      "1264/1264 [==============================] - 3s 2ms/step - loss: 0.0535 - accuracy: 0.9840 - val_loss: 0.0641 - val_accuracy: 0.9832\n",
      "Epoch 7/10\n",
      "1264/1264 [==============================] - 3s 2ms/step - loss: 0.0545 - accuracy: 0.9836 - val_loss: 0.0656 - val_accuracy: 0.9815\n",
      "Epoch 8/10\n",
      "1264/1264 [==============================] - 3s 2ms/step - loss: 0.0534 - accuracy: 0.9834 - val_loss: 0.0634 - val_accuracy: 0.9822\n",
      "Epoch 9/10\n",
      "1264/1264 [==============================] - 3s 2ms/step - loss: 0.0495 - accuracy: 0.9855 - val_loss: 0.0662 - val_accuracy: 0.9795\n",
      "Epoch 10/10\n",
      "1264/1264 [==============================] - 3s 2ms/step - loss: 0.0508 - accuracy: 0.9848 - val_loss: 0.0687 - val_accuracy: 0.9817\n"
     ]
    }
   ],
   "source": [
    "history = mlp.fit(xw_train, y_train, epochs=10, validation_data = (xw_test, y_test))"
   ]
  },
  {
   "cell_type": "code",
   "execution_count": 56,
   "id": "hollywood-contrary",
   "metadata": {},
   "outputs": [
    {
     "data": {
      "image/png": "[encoded data removed]",
      "text/plain": [
       "<Figure size 432x288 with 1 Axes>"
      ]
     },
     "metadata": {
      "needs_background": "light"
     },
     "output_type": "display_data"
    },
    {
     "data": {
      "image/png": "[encoded data removed]",
      "text/plain": [
       "<Figure size 432x288 with 1 Axes>"
      ]
     },
     "metadata": {
      "needs_background": "light"
     },
     "output_type": "display_data"
    }
   ],
   "source": [
    "plt.plot(history.history['loss'], 'bo--')\n",
    "plt.plot(history.history['val_loss'], 'ro-')\n",
    "plt.ylabel('Loss')\n",
    "plt.xlabel('Epochs (n)')\n",
    "plt.legend(['Training loss', 'Validation loss'])\n",
    "plt.show()\n",
    "plt.plot(history.history['accuracy'], 'bo--')\n",
    "plt.plot(history.history['val_accuracy'], 'ro-')\n",
    "plt.ylabel('Accuracy')\n",
    "plt.xlabel('Epochs (n)')\n",
    "plt.legend(['Training accuracy', 'Validation accuracy'])\n",
    "plt.show()"
   ]
  },
  {
   "cell_type": "code",
   "execution_count": null,
   "id": "tender-belle",
   "metadata": {},
   "outputs": [],
   "source": []
  }
 ],
 "metadata": {
  "kernelspec": {
   "display_name": "Python 3",
   "language": "python",
   "name": "python3"
  },
  "language_info": {
   "codemirror_mode": {
    "name": "ipython",
    "version": 3
   },
   "file_extension": ".py",
   "mimetype": "text/x-python",
   "name": "python",
   "nbconvert_exporter": "python",
   "pygments_lexer": "ipython3",
   "version": "3.8.5"
  }
 },
 "nbformat": 4,
 "nbformat_minor": 5
}
